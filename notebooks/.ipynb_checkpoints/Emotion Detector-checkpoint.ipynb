{
 "cells": [
  {
   "cell_type": "markdown",
   "id": "0c472882",
   "metadata": {},
   "source": [
    "# Emotion Detector using streamlit\n",
    "o. Dectecting text\n",
    "o. Text Classifier"
   ]
  },
  {
   "cell_type": "code",
   "execution_count": 1,
   "id": "ce04fb6f",
   "metadata": {},
   "outputs": [],
   "source": [
    "# Import Packages\n",
    "\n",
    "import joblib\n",
    "# Exploratory Data Anaylsis (EDA) Packages\n",
    "import pandas as pd\n",
    "import numpy as np\n",
    "\n",
    "# Visualization Packages \n",
    "import seaborn as sns\n",
    "import matplotlib.pyplot as plt\n",
    "\n",
    "# Text Cleaning\n",
    "import neattext.functions as nfx\n",
    "\n",
    "# Machine Learning Packages\n",
    "from sklearn.feature_extraction.text import CountVectorizer\n",
    "from sklearn.model_selection import train_test_split\n",
    "from sklearn.pipeline import Pipeline\n",
    "from sklearn.metrics import accuracy_score, confusion_matrix, classification_report\n",
    "\n",
    "# Importing models\n",
    "from sklearn.linear_model import LogisticRegression\n",
    "from sklearn.neighbors import KNeighborsClassifier\n",
    "from sklearn.svm import SVC\n",
    "from sklearn.ensemble import RandomForestClassifier\n",
    "from xgboost import XGBClassifier\n",
    "from sklearn.ensemble import AdaBoostClassifier\n",
    "\n",
    "import warnings\n",
    "warnings.filterwarnings()"
   ]
  },
  {
   "cell_type": "code",
   "execution_count": 2,
   "id": "7eb1766f",
   "metadata": {},
   "outputs": [
    {
     "data": {
      "text/html": [
       "<div>\n",
       "<style scoped>\n",
       "    .dataframe tbody tr th:only-of-type {\n",
       "        vertical-align: middle;\n",
       "    }\n",
       "\n",
       "    .dataframe tbody tr th {\n",
       "        vertical-align: top;\n",
       "    }\n",
       "\n",
       "    .dataframe thead th {\n",
       "        text-align: right;\n",
       "    }\n",
       "</style>\n",
       "<table border=\"1\" class=\"dataframe\">\n",
       "  <thead>\n",
       "    <tr style=\"text-align: right;\">\n",
       "      <th></th>\n",
       "      <th>Emotion</th>\n",
       "      <th>Text</th>\n",
       "    </tr>\n",
       "  </thead>\n",
       "  <tbody>\n",
       "    <tr>\n",
       "      <th>0</th>\n",
       "      <td>neutral</td>\n",
       "      <td>Why ?</td>\n",
       "    </tr>\n",
       "    <tr>\n",
       "      <th>1</th>\n",
       "      <td>joy</td>\n",
       "      <td>Sage Act upgrade on my to do list for tommorow.</td>\n",
       "    </tr>\n",
       "    <tr>\n",
       "      <th>2</th>\n",
       "      <td>sadness</td>\n",
       "      <td>ON THE WAY TO MY HOMEGIRL BABY FUNERAL!!! MAN ...</td>\n",
       "    </tr>\n",
       "    <tr>\n",
       "      <th>3</th>\n",
       "      <td>joy</td>\n",
       "      <td>Such an eye ! The true hazel eye-and so brill...</td>\n",
       "    </tr>\n",
       "    <tr>\n",
       "      <th>4</th>\n",
       "      <td>joy</td>\n",
       "      <td>@Iluvmiasantos ugh babe.. hugggzzz for u .!  b...</td>\n",
       "    </tr>\n",
       "    <tr>\n",
       "      <th>...</th>\n",
       "      <td>...</td>\n",
       "      <td>...</td>\n",
       "    </tr>\n",
       "    <tr>\n",
       "      <th>34787</th>\n",
       "      <td>surprise</td>\n",
       "      <td>@MichelGW have you gift! Hope you like it! It'...</td>\n",
       "    </tr>\n",
       "    <tr>\n",
       "      <th>34788</th>\n",
       "      <td>joy</td>\n",
       "      <td>The world didnt give it to me..so the world MO...</td>\n",
       "    </tr>\n",
       "    <tr>\n",
       "      <th>34789</th>\n",
       "      <td>anger</td>\n",
       "      <td>A man robbed me today .</td>\n",
       "    </tr>\n",
       "    <tr>\n",
       "      <th>34790</th>\n",
       "      <td>fear</td>\n",
       "      <td>Youu call it JEALOUSY, I call it of #Losing YO...</td>\n",
       "    </tr>\n",
       "    <tr>\n",
       "      <th>34791</th>\n",
       "      <td>sadness</td>\n",
       "      <td>I think about you baby, and I dream about you ...</td>\n",
       "    </tr>\n",
       "  </tbody>\n",
       "</table>\n",
       "<p>34792 rows × 2 columns</p>\n",
       "</div>"
      ],
      "text/plain": [
       "        Emotion                                               Text\n",
       "0       neutral                                             Why ? \n",
       "1           joy    Sage Act upgrade on my to do list for tommorow.\n",
       "2       sadness  ON THE WAY TO MY HOMEGIRL BABY FUNERAL!!! MAN ...\n",
       "3           joy   Such an eye ! The true hazel eye-and so brill...\n",
       "4           joy  @Iluvmiasantos ugh babe.. hugggzzz for u .!  b...\n",
       "...         ...                                                ...\n",
       "34787  surprise  @MichelGW have you gift! Hope you like it! It'...\n",
       "34788       joy  The world didnt give it to me..so the world MO...\n",
       "34789     anger                           A man robbed me today . \n",
       "34790      fear  Youu call it JEALOUSY, I call it of #Losing YO...\n",
       "34791   sadness  I think about you baby, and I dream about you ...\n",
       "\n",
       "[34792 rows x 2 columns]"
      ]
     },
     "execution_count": 2,
     "metadata": {},
     "output_type": "execute_result"
    }
   ],
   "source": [
    "# load datasets\n",
    "df = pd.read_csv('../emotion-detection-app/data/emotion_dataset_raw.csv')\n",
    "df"
   ]
  },
  {
   "cell_type": "code",
   "execution_count": 3,
   "id": "951df5a4",
   "metadata": {},
   "outputs": [],
   "source": [
    "pd.set_option('display.max_colwidth', None)"
   ]
  },
  {
   "cell_type": "code",
   "execution_count": 4,
   "id": "1a3b0bfa",
   "metadata": {},
   "outputs": [
    {
     "name": "stdout",
     "output_type": "stream",
     "text": [
      "<class 'pandas.core.frame.DataFrame'>\n",
      "RangeIndex: 34792 entries, 0 to 34791\n",
      "Data columns (total 2 columns):\n",
      " #   Column   Non-Null Count  Dtype \n",
      "---  ------   --------------  ----- \n",
      " 0   Emotion  34792 non-null  object\n",
      " 1   Text     34792 non-null  object\n",
      "dtypes: object(2)\n",
      "memory usage: 543.8+ KB\n"
     ]
    }
   ],
   "source": [
    "df.info()"
   ]
  },
  {
   "cell_type": "code",
   "execution_count": 5,
   "id": "863c2a3e",
   "metadata": {},
   "outputs": [
    {
     "data": {
      "text/html": [
       "<div>\n",
       "<style scoped>\n",
       "    .dataframe tbody tr th:only-of-type {\n",
       "        vertical-align: middle;\n",
       "    }\n",
       "\n",
       "    .dataframe tbody tr th {\n",
       "        vertical-align: top;\n",
       "    }\n",
       "\n",
       "    .dataframe thead th {\n",
       "        text-align: right;\n",
       "    }\n",
       "</style>\n",
       "<table border=\"1\" class=\"dataframe\">\n",
       "  <thead>\n",
       "    <tr style=\"text-align: right;\">\n",
       "      <th></th>\n",
       "      <th>Emotion</th>\n",
       "      <th>Text</th>\n",
       "    </tr>\n",
       "  </thead>\n",
       "  <tbody>\n",
       "    <tr>\n",
       "      <th>0</th>\n",
       "      <td>neutral</td>\n",
       "      <td>Why ?</td>\n",
       "    </tr>\n",
       "    <tr>\n",
       "      <th>1</th>\n",
       "      <td>joy</td>\n",
       "      <td>Sage Act upgrade on my to do list for tommorow.</td>\n",
       "    </tr>\n",
       "    <tr>\n",
       "      <th>2</th>\n",
       "      <td>sadness</td>\n",
       "      <td>ON THE WAY TO MY HOMEGIRL BABY FUNERAL!!! MAN I HATE FUNERALS THIS REALLY SHOWS ME HOW BLESSED I AM</td>\n",
       "    </tr>\n",
       "    <tr>\n",
       "      <th>3</th>\n",
       "      <td>joy</td>\n",
       "      <td>Such an eye ! The true hazel eye-and so brilliant ! Regular features , open countenance , with a complexion , Oh ! What a bloom of full health , and such a pretty height and size ; such a firm and upright figure ! There is health , not merely in her bloom , but in her air , her head , her glance . One hears sometimes of a child being ' the picture of health ' ; now , she always gives me the idea of being the complete picture of grown-up health . She is loveliness itself .</td>\n",
       "    </tr>\n",
       "    <tr>\n",
       "      <th>4</th>\n",
       "      <td>joy</td>\n",
       "      <td>@Iluvmiasantos ugh babe.. hugggzzz for u .!  babe naamazed nga ako e babe e, despite nega's mas pinaramdam at fil ko ang</td>\n",
       "    </tr>\n",
       "  </tbody>\n",
       "</table>\n",
       "</div>"
      ],
      "text/plain": [
       "   Emotion  \\\n",
       "0  neutral   \n",
       "1      joy   \n",
       "2  sadness   \n",
       "3      joy   \n",
       "4      joy   \n",
       "\n",
       "                                                                                                                                                                                                                                                                                                                                                                                                                                                                                             Text  \n",
       "0                                                                                                                                                                                                                                                                                                                                                                                                                                                                                          Why ?   \n",
       "1                                                                                                                                                                                                                                                                                                                                                                                                                                                 Sage Act upgrade on my to do list for tommorow.  \n",
       "2                                                                                                                                                                                                                                                                                                                                                                                            ON THE WAY TO MY HOMEGIRL BABY FUNERAL!!! MAN I HATE FUNERALS THIS REALLY SHOWS ME HOW BLESSED I AM   \n",
       "3   Such an eye ! The true hazel eye-and so brilliant ! Regular features , open countenance , with a complexion , Oh ! What a bloom of full health , and such a pretty height and size ; such a firm and upright figure ! There is health , not merely in her bloom , but in her air , her head , her glance . One hears sometimes of a child being ' the picture of health ' ; now , she always gives me the idea of being the complete picture of grown-up health . She is loveliness itself .   \n",
       "4                                                                                                                                                                                                                                                                                                                                                                       @Iluvmiasantos ugh babe.. hugggzzz for u .!  babe naamazed nga ako e babe e, despite nega's mas pinaramdam at fil ko ang   "
      ]
     },
     "execution_count": 5,
     "metadata": {},
     "output_type": "execute_result"
    }
   ],
   "source": [
    "df.head()"
   ]
  },
  {
   "cell_type": "code",
   "execution_count": 6,
   "id": "6500670f",
   "metadata": {},
   "outputs": [
    {
     "data": {
      "text/plain": [
       "joy         11045\n",
       "sadness      6722\n",
       "fear         5410\n",
       "anger        4297\n",
       "surprise     4062\n",
       "neutral      2254\n",
       "disgust       856\n",
       "shame         146\n",
       "Name: Emotion, dtype: int64"
      ]
     },
     "execution_count": 6,
     "metadata": {},
     "output_type": "execute_result"
    }
   ],
   "source": [
    "# counting rows for emotion types\n",
    "df['Emotion'].value_counts()"
   ]
  },
  {
   "cell_type": "code",
   "execution_count": 7,
   "id": "751a85df",
   "metadata": {},
   "outputs": [
    {
     "data": {
      "image/png": "[encoded data removed]",
      "text/plain": [
       "<Figure size 432x288 with 1 Axes>"
      ]
     },
     "metadata": {
      "needs_background": "light"
     },
     "output_type": "display_data"
    }
   ],
   "source": [
    "# plot count of emotion\n",
    "sns.countplot(x='Emotion', data = df)\n",
    "plt.show()"
   ]
  },
  {
   "cell_type": "code",
   "execution_count": 8,
   "id": "32893be0",
   "metadata": {},
   "outputs": [
    {
     "data": {
      "text/plain": [
       "(34792, 2)"
      ]
     },
     "execution_count": 8,
     "metadata": {},
     "output_type": "execute_result"
    }
   ],
   "source": [
    "df.shape"
   ]
  },
  {
   "cell_type": "code",
   "execution_count": 9,
   "id": "06569519",
   "metadata": {},
   "outputs": [
    {
     "data": {
      "text/plain": [
       "(31162, 2)"
      ]
     },
     "execution_count": 9,
     "metadata": {},
     "output_type": "execute_result"
    }
   ],
   "source": [
    "df.drop_duplicates().shape"
   ]
  },
  {
   "cell_type": "code",
   "execution_count": 10,
   "id": "9e84b362",
   "metadata": {},
   "outputs": [],
   "source": [
    "df = df.drop_duplicates()"
   ]
  },
  {
   "cell_type": "code",
   "execution_count": 11,
   "id": "7c229a4a",
   "metadata": {},
   "outputs": [
    {
     "data": {
      "text/plain": [
       "(31110, 2)"
      ]
     },
     "execution_count": 11,
     "metadata": {},
     "output_type": "execute_result"
    }
   ],
   "source": [
    "df.drop_duplicates(['Text']).shape"
   ]
  },
  {
   "cell_type": "code",
   "execution_count": 12,
   "id": "a57fa1c1",
   "metadata": {},
   "outputs": [
    {
     "data": {
      "text/plain": [
       "['BTC_ADDRESS_REGEX',\n",
       " 'CURRENCY_REGEX',\n",
       " 'CURRENCY_SYMB_REGEX',\n",
       " 'Counter',\n",
       " 'DATE_REGEX',\n",
       " 'EMAIL_REGEX',\n",
       " 'EMOJI_REGEX',\n",
       " 'HASTAG_REGEX',\n",
       " 'MASTERCard_REGEX',\n",
       " 'MD5_SHA_REGEX',\n",
       " 'MOST_COMMON_PUNCT_REGEX',\n",
       " 'NUMBERS_REGEX',\n",
       " 'PHONE_REGEX',\n",
       " 'PoBOX_REGEX',\n",
       " 'SPECIAL_CHARACTERS_REGEX',\n",
       " 'STOPWORDS',\n",
       " 'STOPWORDS_de',\n",
       " 'STOPWORDS_en',\n",
       " 'STOPWORDS_es',\n",
       " 'STOPWORDS_fr',\n",
       " 'STOPWORDS_ru',\n",
       " 'STOPWORDS_yo',\n",
       " 'STREET_ADDRESS_REGEX',\n",
       " 'TextFrame',\n",
       " 'URL_PATTERN',\n",
       " 'USER_HANDLES_REGEX',\n",
       " 'VISACard_REGEX',\n",
       " '__builtins__',\n",
       " '__cached__',\n",
       " '__doc__',\n",
       " '__file__',\n",
       " '__generate_text',\n",
       " '__loader__',\n",
       " '__name__',\n",
       " '__numbers_dict',\n",
       " '__package__',\n",
       " '__spec__',\n",
       " '_lex_richness_herdan',\n",
       " '_lex_richness_maas_ttr',\n",
       " 'clean_text',\n",
       " 'defaultdict',\n",
       " 'digit2words',\n",
       " 'extract_btc_address',\n",
       " 'extract_currencies',\n",
       " 'extract_currency_symbols',\n",
       " 'extract_dates',\n",
       " 'extract_emails',\n",
       " 'extract_emojis',\n",
       " 'extract_hashtags',\n",
       " 'extract_html_tags',\n",
       " 'extract_mastercard_addr',\n",
       " 'extract_md5sha',\n",
       " 'extract_numbers',\n",
       " 'extract_pattern',\n",
       " 'extract_phone_numbers',\n",
       " 'extract_postoffice_box',\n",
       " 'extract_shortwords',\n",
       " 'extract_special_characters',\n",
       " 'extract_stopwords',\n",
       " 'extract_street_address',\n",
       " 'extract_urls',\n",
       " 'extract_userhandles',\n",
       " 'extract_visacard_addr',\n",
       " 'fix_contractions',\n",
       " 'generate_sentence',\n",
       " 'hamming_distance',\n",
       " 'inverse_df',\n",
       " 'lexical_richness',\n",
       " 'markov_chain',\n",
       " 'math',\n",
       " 'nlargest',\n",
       " 'normalize',\n",
       " 'num2words',\n",
       " 'random',\n",
       " 're',\n",
       " 'read_txt',\n",
       " 'remove_bad_quotes',\n",
       " 'remove_btc_address',\n",
       " 'remove_currencies',\n",
       " 'remove_currency_symbols',\n",
       " 'remove_custom_pattern',\n",
       " 'remove_custom_words',\n",
       " 'remove_dates',\n",
       " 'remove_emails',\n",
       " 'remove_emojis',\n",
       " 'remove_hashtags',\n",
       " 'remove_html_tags',\n",
       " 'remove_mastercard_addr',\n",
       " 'remove_md5sha',\n",
       " 'remove_multiple_spaces',\n",
       " 'remove_non_ascii',\n",
       " 'remove_numbers',\n",
       " 'remove_phone_numbers',\n",
       " 'remove_postoffice_box',\n",
       " 'remove_puncts',\n",
       " 'remove_punctuations',\n",
       " 'remove_shortwords',\n",
       " 'remove_special_characters',\n",
       " 'remove_stopwords',\n",
       " 'remove_street_address',\n",
       " 'remove_urls',\n",
       " 'remove_userhandles',\n",
       " 'remove_visacard_addr',\n",
       " 'replace_bad_quotes',\n",
       " 'replace_currencies',\n",
       " 'replace_currency_symbols',\n",
       " 'replace_dates',\n",
       " 'replace_emails',\n",
       " 'replace_emojis',\n",
       " 'replace_numbers',\n",
       " 'replace_phone_numbers',\n",
       " 'replace_special_characters',\n",
       " 'replace_term',\n",
       " 'replace_urls',\n",
       " 'string',\n",
       " 'term_freq',\n",
       " 'to_txt',\n",
       " 'word_freq',\n",
       " 'word_length_freq']"
      ]
     },
     "execution_count": 12,
     "metadata": {},
     "output_type": "execute_result"
    }
   ],
   "source": [
    "# Data cleaning\n",
    "dir(nfx)"
   ]
  },
  {
   "cell_type": "code",
   "execution_count": 13,
   "id": "f7b8e3d2",
   "metadata": {
    "scrolled": false
   },
   "outputs": [
    {
     "name": "stderr",
     "output_type": "stream",
     "text": [
      "<ipython-input-13-f516ead3c577>:2: SettingWithCopyWarning: \n",
      "A value is trying to be set on a copy of a slice from a DataFrame.\n",
      "Try using .loc[row_indexer,col_indexer] = value instead\n",
      "\n",
      "See the caveats in the documentation: https://pandas.pydata.org/pandas-docs/stable/user_guide/indexing.html#returning-a-view-versus-a-copy\n",
      "  df['CleanText']=df['Text'].apply(nfx.remove_stopwords)\n"
     ]
    }
   ],
   "source": [
    "# removing stopwords\n",
    "df['CleanText']=df['Text'].apply(nfx.remove_stopwords)"
   ]
  },
  {
   "cell_type": "code",
   "execution_count": 14,
   "id": "ead77a0c",
   "metadata": {},
   "outputs": [
    {
     "name": "stderr",
     "output_type": "stream",
     "text": [
      "<ipython-input-14-5d074b40025e>:2: SettingWithCopyWarning: \n",
      "A value is trying to be set on a copy of a slice from a DataFrame.\n",
      "Try using .loc[row_indexer,col_indexer] = value instead\n",
      "\n",
      "See the caveats in the documentation: https://pandas.pydata.org/pandas-docs/stable/user_guide/indexing.html#returning-a-view-versus-a-copy\n",
      "  df['CleanText']=df['CleanText'].apply(nfx.remove_userhandles)\n"
     ]
    }
   ],
   "source": [
    "# removing user handels\n",
    "df['CleanText']=df['CleanText'].apply(nfx.remove_userhandles)"
   ]
  },
  {
   "cell_type": "code",
   "execution_count": 15,
   "id": "74f207ea",
   "metadata": {},
   "outputs": [
    {
     "name": "stderr",
     "output_type": "stream",
     "text": [
      "<ipython-input-15-6ae16cea33e1>:2: SettingWithCopyWarning: \n",
      "A value is trying to be set on a copy of a slice from a DataFrame.\n",
      "Try using .loc[row_indexer,col_indexer] = value instead\n",
      "\n",
      "See the caveats in the documentation: https://pandas.pydata.org/pandas-docs/stable/user_guide/indexing.html#returning-a-view-versus-a-copy\n",
      "  df['CleanText']=df['CleanText'].apply(nfx.remove_numbers)\n"
     ]
    }
   ],
   "source": [
    "# removing numbers\n",
    "df['CleanText']=df['CleanText'].apply(nfx.remove_numbers)"
   ]
  },
  {
   "cell_type": "code",
   "execution_count": 16,
   "id": "5bf884aa",
   "metadata": {},
   "outputs": [
    {
     "data": {
      "text/html": [
       "<div>\n",
       "<style scoped>\n",
       "    .dataframe tbody tr th:only-of-type {\n",
       "        vertical-align: middle;\n",
       "    }\n",
       "\n",
       "    .dataframe tbody tr th {\n",
       "        vertical-align: top;\n",
       "    }\n",
       "\n",
       "    .dataframe thead th {\n",
       "        text-align: right;\n",
       "    }\n",
       "</style>\n",
       "<table border=\"1\" class=\"dataframe\">\n",
       "  <thead>\n",
       "    <tr style=\"text-align: right;\">\n",
       "      <th></th>\n",
       "      <th>Emotion</th>\n",
       "      <th>Text</th>\n",
       "      <th>CleanText</th>\n",
       "    </tr>\n",
       "  </thead>\n",
       "  <tbody>\n",
       "    <tr>\n",
       "      <th>0</th>\n",
       "      <td>neutral</td>\n",
       "      <td>Why ?</td>\n",
       "      <td>?</td>\n",
       "    </tr>\n",
       "    <tr>\n",
       "      <th>1</th>\n",
       "      <td>joy</td>\n",
       "      <td>Sage Act upgrade on my to do list for tommorow.</td>\n",
       "      <td>Sage Act upgrade list tommorow.</td>\n",
       "    </tr>\n",
       "    <tr>\n",
       "      <th>2</th>\n",
       "      <td>sadness</td>\n",
       "      <td>ON THE WAY TO MY HOMEGIRL BABY FUNERAL!!! MAN I HATE FUNERALS THIS REALLY SHOWS ME HOW BLESSED I AM</td>\n",
       "      <td>WAY HOMEGIRL BABY FUNERAL!!! MAN HATE FUNERALS SHOWS BLESSED</td>\n",
       "    </tr>\n",
       "    <tr>\n",
       "      <th>3</th>\n",
       "      <td>joy</td>\n",
       "      <td>Such an eye ! The true hazel eye-and so brilliant ! Regular features , open countenance , with a complexion , Oh ! What a bloom of full health , and such a pretty height and size ; such a firm and upright figure ! There is health , not merely in her bloom , but in her air , her head , her glance . One hears sometimes of a child being ' the picture of health ' ; now , she always gives me the idea of being the complete picture of grown-up health . She is loveliness itself .</td>\n",
       "      <td>eye ! true hazel eye-and brilliant ! Regular features , open countenance , complexion , Oh ! bloom health , pretty height size ; firm upright figure ! health , merely bloom , air , head , glance . hears child ' picture health ' ; , gives idea complete picture grown-up health . loveliness .</td>\n",
       "    </tr>\n",
       "    <tr>\n",
       "      <th>4</th>\n",
       "      <td>joy</td>\n",
       "      <td>@Iluvmiasantos ugh babe.. hugggzzz for u .!  babe naamazed nga ako e babe e, despite nega's mas pinaramdam at fil ko ang</td>\n",
       "      <td>ugh babe.. hugggzzz u .! babe naamazed nga ako e babe e, despite nega's mas pinaramdam fil ko ang</td>\n",
       "    </tr>\n",
       "  </tbody>\n",
       "</table>\n",
       "</div>"
      ],
      "text/plain": [
       "   Emotion  \\\n",
       "0  neutral   \n",
       "1      joy   \n",
       "2  sadness   \n",
       "3      joy   \n",
       "4      joy   \n",
       "\n",
       "                                                                                                                                                                                                                                                                                                                                                                                                                                                                                             Text  \\\n",
       "0                                                                                                                                                                                                                                                                                                                                                                                                                                                                                          Why ?    \n",
       "1                                                                                                                                                                                                                                                                                                                                                                                                                                                 Sage Act upgrade on my to do list for tommorow.   \n",
       "2                                                                                                                                                                                                                                                                                                                                                                                            ON THE WAY TO MY HOMEGIRL BABY FUNERAL!!! MAN I HATE FUNERALS THIS REALLY SHOWS ME HOW BLESSED I AM    \n",
       "3   Such an eye ! The true hazel eye-and so brilliant ! Regular features , open countenance , with a complexion , Oh ! What a bloom of full health , and such a pretty height and size ; such a firm and upright figure ! There is health , not merely in her bloom , but in her air , her head , her glance . One hears sometimes of a child being ' the picture of health ' ; now , she always gives me the idea of being the complete picture of grown-up health . She is loveliness itself .    \n",
       "4                                                                                                                                                                                                                                                                                                                                                                       @Iluvmiasantos ugh babe.. hugggzzz for u .!  babe naamazed nga ako e babe e, despite nega's mas pinaramdam at fil ko ang    \n",
       "\n",
       "                                                                                                                                                                                                                                                                                            CleanText  \n",
       "0                                                                                                                                                                                                                                                                                                   ?  \n",
       "1                                                                                                                                                                                                                                                                     Sage Act upgrade list tommorow.  \n",
       "2                                                                                                                                                                                                                                        WAY HOMEGIRL BABY FUNERAL!!! MAN HATE FUNERALS SHOWS BLESSED  \n",
       "3  eye ! true hazel eye-and brilliant ! Regular features , open countenance , complexion , Oh ! bloom health , pretty height size ; firm upright figure ! health , merely bloom , air , head , glance . hears child ' picture health ' ; , gives idea complete picture grown-up health . loveliness .  \n",
       "4                                                                                                                                                                                                   ugh babe.. hugggzzz u .! babe naamazed nga ako e babe e, despite nega's mas pinaramdam fil ko ang  "
      ]
     },
     "execution_count": 16,
     "metadata": {},
     "output_type": "execute_result"
    }
   ],
   "source": [
    "df.head()"
   ]
  },
  {
   "cell_type": "code",
   "execution_count": 17,
   "id": "f6e3a60d",
   "metadata": {},
   "outputs": [],
   "source": [
    "class md:\n",
    "  bold = '\\033[1m'\n",
    "  end = '\\033[0m'"
   ]
  },
  {
   "cell_type": "code",
   "execution_count": 18,
   "id": "073ebdb0",
   "metadata": {},
   "outputs": [],
   "source": [
    "def buildModels(x_train, x_test, y_train, y_test):\n",
    "\n",
    "    dfs = results = names = []\n",
    "    \n",
    "    models = [\n",
    "      ('LGR', LogisticRegression()),\n",
    "      ('RFC', RandomForestClassifier()),\n",
    "      ('KNN', KNeighborsClassifier()),\n",
    "      ('SVM', SVC(probability=True)),\n",
    "      ('XGB', XGBClassifier()),\n",
    "      ('ADA', AdaBoostClassifier())\n",
    "    ]\n",
    "    \n",
    "    modelScore = []\n",
    "    for model in models:\n",
    "        print(md.bold + \"========================================  \" + model[0] + \"  ========================================\" + md.end)\n",
    "        # Creating pipeline\n",
    "        print(md.bold + \"Creating Pipeline...\" + md.end)\n",
    "        pipeline = Pipeline(steps=[('cv', CountVectorizer()), model])\n",
    "        \n",
    "        # Training model\n",
    "        print(md.bold + \"Training Model...\" + md.end)\n",
    "        pipeline.fit(x_train, y_train)\n",
    "        \n",
    "        # Getting Results\n",
    "        print(md.bold + \"Data:\" + md.end)\n",
    "        print(pipeline.predict([\"I am broke\"]))\n",
    "        Score = pipeline.score(x_test, y_test)\n",
    "        print(\"Score:\", Score)\n",
    "        modelScore.append(Score)\n",
    "        \n",
    "        # Storing model\n",
    "        print(md.bold + \"Storing Model...\" + md.end)\n",
    "        with open(f\"../models/{model[0]}.pkl\", \"wb\") as ec:\n",
    "            joblib.dump(pipeline, ec)\n",
    "        print(md.bold + \"Process Complete!!\\n\\n\\n\" + md.end)\n",
    "    print(\"Highest accuracy:\", models[modelScore.index(max(modelScore))])"
   ]
  },
  {
   "cell_type": "code",
   "execution_count": 19,
   "id": "2b43024e",
   "metadata": {},
   "outputs": [],
   "source": [
    "x_train, x_test, y_train, y_test = train_test_split(df['CleanText'], df['Emotion'], test_size=0.2, random_state=30)"
   ]
  },
  {
   "cell_type": "code",
   "execution_count": 20,
   "id": "d7ef9998",
   "metadata": {},
   "outputs": [
    {
     "name": "stdout",
     "output_type": "stream",
     "text": [
      "\u001b[1m========================================  LGR  ========================================\u001b[0m\n",
      "\u001b[1mCreating Pipeline...\u001b[0m\n",
      "\u001b[1mTraining Model...\u001b[0m\n"
     ]
    },
    {
     "name": "stderr",
     "output_type": "stream",
     "text": [
      "C:\\Users\\SRIVARI\\AppData\\Roaming\\Python\\Python38\\site-packages\\sklearn\\linear_model\\_logistic.py:762: ConvergenceWarning: lbfgs failed to converge (status=1):\n",
      "STOP: TOTAL NO. of ITERATIONS REACHED LIMIT.\n",
      "\n",
      "Increase the number of iterations (max_iter) or scale the data as shown in:\n",
      "    https://scikit-learn.org/stable/modules/preprocessing.html\n",
      "Please also refer to the documentation for alternative solver options:\n",
      "    https://scikit-learn.org/stable/modules/linear_model.html#logistic-regression\n",
      "  n_iter_i = _check_optimize_result(\n"
     ]
    },
    {
     "name": "stdout",
     "output_type": "stream",
     "text": [
      "\u001b[1mData:\u001b[0m\n",
      "['sadness']\n",
      "Score: 0.5801379752927964\n",
      "\u001b[1mStoring Model...\u001b[0m\n",
      "\u001b[1mProcess Complete!!\n",
      "\n",
      "\n",
      "\u001b[0m\n",
      "\u001b[1m========================================  RFC  ========================================\u001b[0m\n",
      "\u001b[1mCreating Pipeline...\u001b[0m\n",
      "\u001b[1mTraining Model...\u001b[0m\n",
      "\u001b[1mData:\u001b[0m\n",
      "['sadness']\n",
      "Score: 0.537461896358094\n",
      "\u001b[1mStoring Model...\u001b[0m\n",
      "\u001b[1mProcess Complete!!\n",
      "\n",
      "\n",
      "\u001b[0m\n",
      "\u001b[1m========================================  KNN  ========================================\u001b[0m\n",
      "\u001b[1mCreating Pipeline...\u001b[0m\n",
      "\u001b[1mTraining Model...\u001b[0m\n",
      "\u001b[1mData:\u001b[0m\n",
      "['neutral']\n",
      "Score: 0.19894111984598106\n",
      "\u001b[1mStoring Model...\u001b[0m\n",
      "\u001b[1mProcess Complete!!\n",
      "\n",
      "\n",
      "\u001b[0m\n",
      "\u001b[1m========================================  SVM  ========================================\u001b[0m\n",
      "\u001b[1mCreating Pipeline...\u001b[0m\n",
      "\u001b[1mTraining Model...\u001b[0m\n",
      "\u001b[1mData:\u001b[0m\n",
      "['sadness']\n",
      "Score: 0.5721161559441681\n",
      "\u001b[1mStoring Model...\u001b[0m\n",
      "\u001b[1mProcess Complete!!\n",
      "\n",
      "\n",
      "\u001b[0m\n",
      "\u001b[1m========================================  XGB  ========================================\u001b[0m\n",
      "\u001b[1mCreating Pipeline...\u001b[0m\n",
      "\u001b[1mTraining Model...\u001b[0m\n"
     ]
    },
    {
     "name": "stderr",
     "output_type": "stream",
     "text": [
      "C:\\Users\\SRIVARI\\AppData\\Roaming\\Python\\Python38\\site-packages\\xgboost\\sklearn.py:1146: UserWarning: The use of label encoder in XGBClassifier is deprecated and will be removed in a future release. To remove this warning, do the following: 1) Pass option use_label_encoder=False when constructing XGBClassifier object; and 2) Encode your labels (y) as integers starting with 0, i.e. 0, 1, 2, ..., [num_class - 1].\n",
      "  warnings.warn(label_encoder_deprecation_msg, UserWarning)\n"
     ]
    },
    {
     "name": "stdout",
     "output_type": "stream",
     "text": [
      "[19:19:48] WARNING: C:/Users/Administrator/workspace/xgboost-win64_release_1.4.0/src/learner.cc:1095: Starting in XGBoost 1.3.0, the default evaluation metric used with the objective 'multi:softprob' was changed from 'merror' to 'mlogloss'. Explicitly set eval_metric if you'd like to restore the old behavior.\n",
      "\u001b[1mData:\u001b[0m\n",
      "['sadness']\n",
      "Score: 0.5443606609979144\n",
      "\u001b[1mStoring Model...\u001b[0m\n",
      "\u001b[1mProcess Complete!!\n",
      "\n",
      "\n",
      "\u001b[0m\n",
      "\u001b[1m========================================  ADA  ========================================\u001b[0m\n",
      "\u001b[1mCreating Pipeline...\u001b[0m\n",
      "\u001b[1mTraining Model...\u001b[0m\n",
      "\u001b[1mData:\u001b[0m\n",
      "['joy']\n",
      "Score: 0.34269212257339965\n",
      "\u001b[1mStoring Model...\u001b[0m\n",
      "\u001b[1mProcess Complete!!\n",
      "\n",
      "\n",
      "\u001b[0m\n",
      "Highest accuracy: ('LGR', LogisticRegression())\n"
     ]
    }
   ],
   "source": [
    "buildModels(x_train, x_test, y_train, y_test)"
   ]
  },
  {
   "cell_type": "code",
   "execution_count": null,
   "id": "06e49d8f",
   "metadata": {},
   "outputs": [],
   "source": []
  },
  {
   "cell_type": "code",
   "execution_count": 28,
   "id": "0d62e7cb",
   "metadata": {},
   "outputs": [],
   "source": [
    "x_train, x_test, y_train, y_test = train_test_split(\n",
    "    df['CleanText'], df['Emotion'], test_size= 0.2, random_state=30)"
   ]
  },
  {
   "cell_type": "code",
   "execution_count": 29,
   "id": "79c0460f",
   "metadata": {},
   "outputs": [],
   "source": [
    "pipeline_lr = Pipeline(steps = [('cv', CountVectorizer()), ('lr', LogisticRegression())])"
   ]
  },
  {
   "cell_type": "code",
   "execution_count": 30,
   "id": "2df10493",
   "metadata": {},
   "outputs": [
    {
     "data": {
      "text/plain": [
       "Pipeline(steps=[('cv', CountVectorizer()), ('lr', LogisticRegression())])"
      ]
     },
     "execution_count": 30,
     "metadata": {},
     "output_type": "execute_result"
    }
   ],
   "source": [
    "# Train model\n",
    "pipeline_lr.fit(x_train, y_train)"
   ]
  },
  {
   "cell_type": "code",
   "execution_count": 31,
   "id": "00d3787e",
   "metadata": {},
   "outputs": [],
   "source": [
    "sample_sent = \" I am feeling good\""
   ]
  },
  {
   "cell_type": "code",
   "execution_count": 32,
   "id": "c34c33ae",
   "metadata": {},
   "outputs": [
    {
     "data": {
      "text/plain": [
       "array(['joy'], dtype=object)"
      ]
     },
     "execution_count": 32,
     "metadata": {},
     "output_type": "execute_result"
    }
   ],
   "source": [
    "pipeline_lr.predict([sample_sent])"
   ]
  },
  {
   "cell_type": "code",
   "execution_count": 33,
   "id": "9e7911e6",
   "metadata": {},
   "outputs": [
    {
     "data": {
      "text/plain": [
       "array([[0.02366239, 0.09166467, 0.03032705, 0.54466948, 0.10351696,\n",
       "        0.11827704, 0.00201665, 0.08586575]])"
      ]
     },
     "execution_count": 33,
     "metadata": {},
     "output_type": "execute_result"
    }
   ],
   "source": [
    "pipeline_lr.predict_proba([sample_sent])"
   ]
  },
  {
   "cell_type": "code",
   "execution_count": 34,
   "id": "3f61238c",
   "metadata": {},
   "outputs": [
    {
     "data": {
      "text/plain": [
       "array(['anger', 'disgust', 'fear', 'joy', 'neutral', 'sadness', 'shame',\n",
       "       'surprise'], dtype=object)"
      ]
     },
     "execution_count": 34,
     "metadata": {},
     "output_type": "execute_result"
    }
   ],
   "source": [
    "pipeline_lr.classes_"
   ]
  },
  {
   "cell_type": "code",
   "execution_count": 35,
   "id": "7c155da9",
   "metadata": {},
   "outputs": [
    {
     "data": {
      "text/plain": [
       "0.5811005936146318"
      ]
     },
     "execution_count": 35,
     "metadata": {},
     "output_type": "execute_result"
    }
   ],
   "source": [
    "pipeline_lr.score(x_test, y_test)"
   ]
  },
  {
   "cell_type": "code",
   "execution_count": 36,
   "id": "d8ba9d5f",
   "metadata": {},
   "outputs": [],
   "source": [
    "with open (\"../models/emotion_classifier.pkl\", \"wb\") as ec:\n",
    "    joblib.dump(pipeline_lr, ec)"
   ]
  },
  {
   "cell_type": "code",
   "execution_count": 19,
   "id": "fd5de7b6",
   "metadata": {},
   "outputs": [],
   "source": [
    "# from pycaret.datasets import get_data\n",
    "# df = get_data('df')"
   ]
  },
  {
   "cell_type": "code",
   "execution_count": 20,
   "id": "534d9e66",
   "metadata": {},
   "outputs": [],
   "source": [
    "# from pycaret.classification import *"
   ]
  },
  {
   "cell_type": "code",
   "execution_count": 21,
   "id": "41c58dbe",
   "metadata": {},
   "outputs": [],
   "source": [
    "# exp_clf = setup(df, target = 'Emotion')"
   ]
  },
  {
   "cell_type": "code",
   "execution_count": 22,
   "id": "bb669350",
   "metadata": {},
   "outputs": [],
   "source": [
    "# best = compare_models()"
   ]
  },
  {
   "cell_type": "code",
   "execution_count": 23,
   "id": "c9f1934b",
   "metadata": {},
   "outputs": [],
   "source": [
    "# best_specific = compare_models(whitelist = ['rf','xgboost'], sort= 'Accuracy')"
   ]
  },
  {
   "cell_type": "code",
   "execution_count": 24,
   "id": "177c5995",
   "metadata": {},
   "outputs": [],
   "source": [
    "# best_specific = compare_models(blacklist = ['catboost', 'svm'])"
   ]
  },
  {
   "cell_type": "code",
   "execution_count": 25,
   "id": "ae733da7",
   "metadata": {},
   "outputs": [],
   "source": [
    "# top3 = compare_models(n_select = 2)"
   ]
  },
  {
   "cell_type": "code",
   "execution_count": 26,
   "id": "7f3ab504",
   "metadata": {},
   "outputs": [],
   "source": [
    "# rf = create_model('rf', fold = 5)"
   ]
  },
  {
   "cell_type": "code",
   "execution_count": 27,
   "id": "65ad3e9a",
   "metadata": {},
   "outputs": [],
   "source": [
    "# xgboost = create_model('xgboost', max_depth = 10) "
   ]
  },
  {
   "cell_type": "code",
   "execution_count": 1,
   "id": "bb4db0d7",
   "metadata": {},
   "outputs": [
    {
     "data": {
      "text/plain": [
       "'2.3.1'"
      ]
     },
     "execution_count": 1,
     "metadata": {},
     "output_type": "execute_result"
    }
   ],
   "source": [
    "#from pycaret.utils import version\n",
    "#version()"
   ]
  }
 ],
 "metadata": {
  "kernelspec": {
   "display_name": "Python 3",
   "language": "python",
   "name": "python3"
  },
  "language_info": {
   "codemirror_mode": {
    "name": "ipython",
    "version": 3
   },
   "file_extension": ".py",
   "mimetype": "text/x-python",
   "name": "python",
   "nbconvert_exporter": "python",
   "pygments_lexer": "ipython3",
   "version": "3.8.8"
  }
 },
 "nbformat": 4,
 "nbformat_minor": 5
}
